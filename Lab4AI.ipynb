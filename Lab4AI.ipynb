{
  "nbformat": 4,
  "nbformat_minor": 0,
  "metadata": {
    "colab": {
      "provenance": []
    },
    "kernelspec": {
      "name": "python3",
      "display_name": "Python 3"
    },
    "language_info": {
      "name": "python"
    }
  },
  "cells": [
    {
      "cell_type": "code",
      "execution_count": 13,
      "metadata": {
        "colab": {
          "base_uri": "https://localhost:8080/"
        },
        "id": "zJx4CVFRFwqd",
        "outputId": "80b0b493-78e4-420f-db49-5ce035612ea1"
      },
      "outputs": [
        {
          "output_type": "stream",
          "name": "stdout",
          "text": [
            "1795.0 3579 0.5015367421067337\n",
            "214.0 447 0.47874720357941836\n",
            "228.0 448 0.5089285714285714\n"
          ]
        }
      ],
      "source": [
        "import numpy as np\n",
        "from sklearn import preprocessing\n",
        "raw_csv_data = np.loadtxt('Audiobooks-data.csv', delimiter = ',')\n",
        "\n",
        "unscaled_inputs_all = raw_csv_data[:,1:-1]\n",
        "targets_all = raw_csv_data[:,-1]\n",
        "\n",
        "shuffled_indices = np.arange(unscaled_inputs_all.shape[0])\n",
        "np.random.shuffle(shuffled_indices)\n",
        "\n",
        "unscaled_inputs_all = unscaled_inputs_all[shuffled_indices]\n",
        "targets_all = targets_all[shuffled_indices]\n",
        "\n",
        "num_one_targets = int(np.sum(targets_all))\n",
        "\n",
        "zero_targets_counter = 0\n",
        "indices_to_remove = []\n",
        "\n",
        "for i in range(targets_all.shape[0]):\n",
        "    if targets_all[i] == 0:\n",
        "        zero_targets_counter += 1\n",
        "        if zero_targets_counter > num_one_targets:\n",
        "            indices_to_remove.append(i)\n",
        "unscaled_inputs_equal_priors = np.delete(unscaled_inputs_all, indices_to_remove, axis = 0)\n",
        "targets_equal_priors = np.delete(targets_all, indices_to_remove, axis = 0)\n",
        "scaled_inputs = preprocessing.scale(unscaled_inputs_equal_priors)\n",
        "shuffled_indices = np.arange(scaled_inputs.shape[0])\n",
        "np.random.shuffle(shuffled_indices)\n",
        "\n",
        "shuffled_inputs = scaled_inputs[shuffled_indices]\n",
        "shuffled_targets = targets_equal_priors[shuffled_indices]\n",
        "samples_count = shuffled_inputs.shape[0]\n",
        "train_samples_count = int(0.8*samples_count)\n",
        "validation_samples_count = int(0.1*samples_count)\n",
        "test_samples_count = samples_count - train_samples_count - validation_samples_count\n",
        "train_inputs = shuffled_inputs[:train_samples_count]\n",
        "train_targets = shuffled_targets[:train_samples_count]\n",
        "validation_inputs = shuffled_inputs[train_samples_count:train_samples_count+validation_samples_count]\n",
        "validation_targets = shuffled_targets[train_samples_count:train_samples_count+validation_samples_count]\n",
        "test_inputs = shuffled_inputs[train_samples_count+validation_samples_count:]\n",
        "test_targets = shuffled_targets[train_samples_count+validation_samples_count:]\n",
        "print(np.sum(train_targets), train_samples_count, np.sum(train_targets) / train_samples_count)\n",
        "print(np.sum(validation_targets), validation_samples_count, np.sum(validation_targets) / validation_samples_count)\n",
        "print(np.sum(test_targets), test_samples_count, np.sum(test_targets) / test_samples_count)\n",
        "np.savez('Audiobooks_data_train', inputs=train_inputs, targets=train_targets)\n",
        "np.savez('Audiobooks_data_validation', inputs=validation_inputs, targets=validation_targets)\n",
        "np.savez('Audiobooks_data_test', inputs=test_inputs, targets=test_targets)"
      ]
    },
    {
      "cell_type": "code",
      "source": [
        "import numpy as np\n",
        "from sklearn.model_selection import train_test_split\n",
        "from sklearn.preprocessing import StandardScaler\n",
        "import xgboost as xgb\n",
        "from sklearn.metrics import accuracy_score\n",
        "raw_data = np.loadtxt('Audiobooks-data.csv', delimiter=',')\n",
        "X = raw_data[:, 1:-1]\n",
        "y = raw_data[:, -1].astype(int)\n",
        "X_temp, X_test, y_temp, y_test = train_test_split(\n",
        "    X, y, test_size=0.1, stratify=y, random_state=42\n",
        ")\n",
        "X_train, X_val, y_train, y_val = train_test_split(\n",
        "    X_temp, y_temp, test_size=0.1111,\n",
        "    stratify=y_temp, random_state=42\n",
        ")\n",
        "scaler = StandardScaler()\n",
        "X_train = scaler.fit_transform(X_train)\n",
        "X_val   = scaler.transform(X_val)\n",
        "X_test  = scaler.transform(X_test)\n",
        "dtrain = xgb.DMatrix(X_train, label=y_train)\n",
        "dval   = xgb.DMatrix(X_val,   label=y_val)\n",
        "dtest  = xgb.DMatrix(X_test,  label=y_test)\n",
        "params = {\n",
        "    'objective': 'binary:logistic',\n",
        "    'eta': 0.1,\n",
        "    'max_depth': 6,\n",
        "    'subsample': 0.8,\n",
        "    'colsample_bytree': 0.8,\n",
        "    'eval_metric': 'error'\n",
        "}\n",
        "evallist = [(dtrain, 'train'), (dval, 'eval')]\n",
        "bst = xgb.train(\n",
        "    params,\n",
        "    dtrain,\n",
        "    num_boost_round=500,\n",
        "    evals=evallist,\n",
        "    early_stopping_rounds=10,\n",
        "    verbose_eval=20\n",
        ")\n",
        "y_pred_prob = bst.predict(dtest)\n",
        "y_pred = (y_pred_prob > 0.5).astype(int)\n",
        "acc = accuracy_score(y_test, y_pred)\n",
        "print(f\"XGBoost test accuracy: {acc*100:.2f}%\")\n"
      ],
      "metadata": {
        "id": "MStY83MiHBTo",
        "colab": {
          "base_uri": "https://localhost:8080/"
        },
        "outputId": "0b8e7d16-d8ee-4831-f487-8591a794ed1f"
      },
      "execution_count": 22,
      "outputs": [
        {
          "output_type": "stream",
          "name": "stdout",
          "text": [
            "[0]\ttrain-error:0.15880\teval-error:0.15898\n",
            "[20]\ttrain-error:0.08495\teval-error:0.08659\n",
            "XGBoost test accuracy: 91.98%\n"
          ]
        }
      ]
    }
  ]
}